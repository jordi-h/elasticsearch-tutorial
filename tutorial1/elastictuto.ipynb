{
 "cells": [
  {
   "cell_type": "markdown",
   "id": "b49e95fd-eb33-4d89-a789-401f25445baf",
   "metadata": {},
   "source": [
    "# Elasticsearch tutorial\n",
    "The purpose of this tutorial is to provide a comprehensive and accessible introduction to the capabilities of Elasticsearch. It aims to explain the fundamental concepts and features of Elasticsearch in a clear and straightforward manner."
   ]
  },
  {
   "cell_type": "markdown",
   "id": "8856dd8d-54bb-4984-bbe4-b98736b7b7dc",
   "metadata": {},
   "source": [
    "## Authors\n",
    "Aly ABDELALEEM, Guillaume DELPORTE, Jordi HOORELBEKE"
   ]
  },
  {
   "cell_type": "markdown",
   "id": "3bd0809f-fb3a-4372-90a8-c97fdfbe5445",
   "metadata": {},
   "source": [
    "## Preamble\n",
    "Before we get started with this tutorial, please make sure you have Docker installed on your system. You can download and install Docker by visiting the [official website](https://www.docker.com/).\n",
    "Also, note that this tutorial will use the elasticsearch Python library. If you don't have elasticsearch installed on your machine, don't worry – it will be installed automatically at the beginning of the tutorial."
   ]
  },
  {
   "cell_type": "markdown",
   "id": "67770a9c-2024-4ed5-9dcc-f8253ac79240",
   "metadata": {},
   "source": [
    "## Launching the Elastic stack inside Docker containers"
   ]
  },
  {
   "cell_type": "markdown",
   "id": "11dc865b-6b0c-47cf-8173-fb782b595840",
   "metadata": {},
   "source": [
    "The **Elastic Stack**, formerly known as the ELK Stack, is a powerful combination of open-source tools that includes **Elasticsearch**, **Logstash**, **Kibana**, and additional components like Beats and Elasticsearch's Machine Learning. It is widely used for centralized logging, log analysis, and data visualization. While this tutorial focuses on teaching the basics of Elasticsearch and does not cover the entire Elastic Stack, we will deploy the Elastic Stack using Docker containers for two main reasons:\n",
    "- **Simplified Configuration**: Deploying Elasticsearch locally can involve complex configurations and dependencies. By running it inside a container, we can abstract away these configuration details, allowing us to focus solely on the basics of Elasticsearch that we aim to cover in this tutorial.\n",
    "- **Preparation for Future Tutorials**: While Elasticsearch alone would be sufficient for our tutorial, deploying the entire Elastic Stack provides an opportunity for readers to familiarize themselves with the stack's deployment process. This prepares them to explore further tutorials on the Elastic Stack after gaining a solid understanding of Elasticsearch, which we recommend.\n",
    "\n",
    "That being said, we will still use **Kibana** during this tutorial. Most specifically, the **Dev Tools**, which offers a convenient interface for querying Elasticsearch nodes. This feature will enhance our learning experience and enable us to interact effectively with Elasticsearch."
   ]
  },
  {
   "cell_type": "markdown",
   "id": "3d72ebf0-d352-41fb-9a1a-3a4ddf131a0d",
   "metadata": {},
   "source": [
    "Fortunately, we won't have to handle the configuration of the Docker container manually. Instead, we will utilize the [docker-elk](https://github.com/deviantony/docker-elk) GitHub repository, maintained by deviantony. This repository provides a pre-configured setup for the ELK Stack, making it easier for us to deploy and get started with Elasticsearch."
   ]
  },
  {
   "cell_type": "markdown",
   "id": "99a6967e-a0af-4325-be7e-9135727c89a5",
   "metadata": {},
   "source": [
    "To get started, let's clone a [forked version](https://github.com/jordi-h/docker-elk) of the GitHub repository mentioned earlier by executing the following command in your terminal:\n",
    "```bash\n",
    "git clone https://github.com/jordi-h/docker-elk.git\n",
    "```\n",
    "Once the repository is cloned, navigate to the cloned repository directory using the terminal and run the following commands:\n",
    "```bash\n",
    "docker-compose up setup # Initialize the Elasticsearch users and groups required by docker-elk\n",
    "docker-compose up -d # If everything went well and the setup completed without error, start the other stack components\n",
    "```\n",
    "If everything goes well, you will have a successfully running Elastic Stack. You can access Elasticsearch at http://localhost:9200/ using the following login credentials:\n",
    "- Username: elastic\n",
    "- Password: changeme\n",
    "\n",
    "Please note that it may take some time for the Kibana container to initialize. Once it is ready, you can access Kibana at http://localhost:5601/ using the same login credentials mentioned above.\n",
    "\n",
    "To close the container and wipe the volume to start fresh use the following commands:\n",
    "```bash\n",
    "docker-compose down\n",
    "docker volume rm docker-elk_elasticsearch\n",
    "```\n",
    "By following these steps, you should have the Elastic Stack up and running, ready for this tutorial."
   ]
  },
  {
   "cell_type": "markdown",
   "id": "14d7ea57-64a4-45d8-9ba8-b4fa2b87e22c",
   "metadata": {},
   "source": [
    "## Let us connect to our Elasticsearch node"
   ]
  },
  {
   "cell_type": "markdown",
   "id": "33bc9307-13d9-4561-8b94-90a63c7b5068",
   "metadata": {},
   "source": [
    "To query an Elasticsearch node using Python, we need to install the [elasticsearch library](https://elasticsearch-py.readthedocs.io/en/v7.17.10/) and import the Elasticsearch class, which allows you to establish a connection to an Elasticsearch cluster or node and perform various operations."
   ]
  },
  {
   "cell_type": "code",
   "execution_count": null,
   "id": "bef9aef3-da7c-4fe1-a374-85b05c70481f",
   "metadata": {
    "ExecuteTime": {
     "end_time": "2023-05-16T15:30:51.946954157Z",
     "start_time": "2023-05-16T15:30:44.859737808Z"
    }
   },
   "outputs": [],
   "source": [
    "%pip install elasticsearch\n",
    "from elasticsearch import Elasticsearch"
   ]
  },
  {
   "cell_type": "markdown",
   "id": "637952fd-36d9-42e7-aeb8-9ad3452627c1",
   "metadata": {},
   "source": [
    "Once the library downloaded and the Elasticsearch class usable, we may connect to the Elastisearch node we deployed inside a container earlier located at http://localhost:9200/."
   ]
  },
  {
   "cell_type": "code",
   "execution_count": null,
   "id": "feb6a709-4c7f-4a29-ae80-b10dbc093713",
   "metadata": {
    "ExecuteTime": {
     "end_time": "2023-05-16T15:35:49.580379408Z",
     "start_time": "2023-05-16T15:35:49.565052050Z"
    }
   },
   "outputs": [],
   "source": [
    "from elasticsearch import Elasticsearch\n",
    "\n",
    "es = Elasticsearch(\n",
    "    hosts=['http://localhost:9200'],\n",
    "    basic_auth=('elastic', 'changeme')  # Credentials\n",
    ")"
   ]
  },
  {
   "cell_type": "markdown",
   "id": "f6c4d0c0",
   "metadata": {},
   "source": [
    "## CRUD OPERATIONS"
   ]
  },
  {
   "cell_type": "markdown",
   "id": "4e8bb7d6-e3da-4fca-8d9d-7ce37b0d95c8",
   "metadata": {},
   "source": [
    "### Creating  Indices"
   ]
  },
  {
   "cell_type": "code",
   "execution_count": null,
   "id": "a3446555",
   "metadata": {
    "ExecuteTime": {
     "end_time": "2023-05-16T15:35:53.193287211Z",
     "start_time": "2023-05-16T15:35:52.525750721Z"
    }
   },
   "outputs": [],
   "source": [
    "# Creating an index for ebay products\n",
    "es.indices.create(index='products')"
   ]
  },
  {
   "cell_type": "code",
   "execution_count": null,
   "id": "c98f65c4",
   "metadata": {
    "ExecuteTime": {
     "end_time": "2023-05-16T15:35:57.194520438Z",
     "start_time": "2023-05-16T15:35:56.528345745Z"
    }
   },
   "outputs": [],
   "source": [
    "# Creating an index for ebay users\n",
    "es.indices.create(index='users')"
   ]
  },
  {
   "cell_type": "code",
   "execution_count": null,
   "id": "9efb8f46",
   "metadata": {
    "ExecuteTime": {
     "end_time": "2023-05-16T15:35:58.859466825Z",
     "start_time": "2023-05-16T15:35:58.846244394Z"
    }
   },
   "outputs": [],
   "source": [
    "# Reteriving the created products index\n",
    "es.indices.get(index=\"products\")"
   ]
  },
  {
   "cell_type": "code",
   "execution_count": null,
   "id": "c9470976",
   "metadata": {
    "ExecuteTime": {
     "end_time": "2023-05-16T15:36:00.910321987Z",
     "start_time": "2023-05-16T15:36:00.899120351Z"
    }
   },
   "outputs": [],
   "source": [
    "# Reteriving the created users index\n",
    "es.indices.get(index=\"users\")"
   ]
  },
  {
   "cell_type": "markdown",
   "id": "f79d52a2",
   "metadata": {},
   "source": [
    "### Creating documents"
   ]
  },
  {
   "cell_type": "code",
   "execution_count": null,
   "id": "4ed68409",
   "metadata": {
    "ExecuteTime": {
     "end_time": "2023-05-16T16:17:05.459829231Z",
     "start_time": "2023-05-16T16:17:05.399616246Z"
    }
   },
   "outputs": [],
   "source": [
    "# defining products to be added to the products index\n",
    "prod_1 = {\n",
    "    \"product_id\": 1,\n",
    "    \"title\": \"Apple iPhone 12 Pro\",\n",
    "    \"subtitle\": \"256GB, Graphite, Unlocked\",\n",
    "    \"category\": {\n",
    "        \"level1\": \"Electronics\",\n",
    "        \"level2\": \"Cell Phones & Accessories\",\n",
    "        \"level3\": \"Cell Phones & Smartphones\",\n",
    "        \"level4\": \"Apple iPhones\"\n",
    "    },\n",
    "    \"price\": {\n",
    "        \"value\": 999.99,\n",
    "        \"currency\": \"USD\"\n",
    "    },\n",
    "    \"condition\": \"New\",\n",
    "    \"seller\": {\n",
    "        \"username\": \"applestore\",\n",
    "        \"feedback_score\": 100,\n",
    "        \"feedback_count\": 5000\n",
    "    },\n",
    "    \"shipping\": {\n",
    "        \"location\": \"United States\",\n",
    "        \"service\": \"Free Shipping\",\n",
    "        \"cost\": {\n",
    "            \"value\": 0,\n",
    "            \"currency\": \"USD\"\n",
    "        },\n",
    "        \"estimated_delivery\": \"2-5 business days\"\n",
    "    },\n",
    "    \"description\": {\n",
    "        \"short\": \"The latest iPhone with advanced camera features.\",\n",
    "        \"long\": \"The Apple iPhone 12 Pro features a 6.1-inch Super Retina XDR display, A14 Bionic chip, and 5G capability. The phone also has an advanced camera system with three 12MP lenses, including a telephoto lens for zooming in on distant subjects. Other features include night mode, deep fusion, and Dolby Vision HDR recording. This unlocked phone comes in a graphite finish and has 256GB of storage. Order yours today and experience the latest in iPhone technology.\"\n",
    "    }\n",
    "}\n",
    "prod_2={\n",
    "    \"product_id\": 2,\n",
    "    \"title\": \"Sony WH-1000XM4 Wireless Headphones\",\n",
    "    \"subtitle\": \"Industry-leading noise cancellation.\",\n",
    "    \"category\": {\n",
    "        \"level1\": \"Electronics\",\n",
    "        \"level2\": \"Portable Audio & Headphones\",\n",
    "        \"level3\": \"Headphones\"\n",
    "    },\n",
    "    \"price\": {\n",
    "        \"value\": 349.99,\n",
    "        \"currency\": \"USD\"\n",
    "    },\n",
    "    \"condition\": \"New\",\n",
    "    \"seller\": {\n",
    "        \"username\": \"bestbuy\",\n",
    "        \"feedback_score\": 98.5,\n",
    "        \"feedback_count\": 10000\n",
    "    },\n",
    "    \"shipping\": {\n",
    "        \"location\": \"United States\",\n",
    "        \"service\": \"Free Shipping\",\n",
    "        \"cost\": {\n",
    "            \"value\": 0,\n",
    "            \"currency\": \"USD\"\n",
    "        },\n",
    "        \"estimated_delivery\": \"2-5 business days\"\n",
    "    },\n",
    "    \"description\": {\n",
    "        \"short\": \"Experience the best in noise-cancelling technology.\",\n",
    "        \"long\": \"The Sony WH-1000XM4 wireless headphones offer industry-leading noise cancellation, as well as advanced features like touch controls, wear detection, and voice assistant compatibility. The headphones also feature 30 hours of battery life, quick charging, and high-quality sound with LDAC and DSEE Extreme. These headphones are perfect for audiophiles and frequent travelers who want to experience the ultimate in sound quality and noise cancellation. Order yours today and start enjoying your music like never before.\"\n",
    "    }\n",
    "}\n",
    "prod_3 = {\n",
    "    \"product_id\": 3,\n",
    "    \"title\": \"Samsung Galaxy S21 Ultra\",\n",
    "    \"subtitle\": \"The ultimate smartphone experience.\",\n",
    "    \"category\": {\n",
    "        \"level1\": \"Cell Phones & Accessories\",\n",
    "        \"level2\": \"Cell Phones & Smartphones\",\n",
    "        \"level3\": \"Samsung Galaxy S21\"\n",
    "    },\n",
    "    \"price\": {\n",
    "        \"value\": 1199.99,\n",
    "        \"currency\": \"USD\"\n",
    "    },\n",
    "    \"condition\": \"New\",\n",
    "    \"seller\": {\n",
    "        \"username\": \"samsung_official\",\n",
    "        \"feedback_score\": 99.5,\n",
    "        \"feedback_count\": 25000\n",
    "    },\n",
    "    \"shipping\": {\n",
    "        \"location\": \"United States\",\n",
    "        \"service\": \"Free Shipping\",\n",
    "        \"cost\": {\n",
    "            \"value\": 0,\n",
    "            \"currency\": \"USD\"\n",
    "        },\n",
    "        \"estimated_delivery\": \"2-5 business days\"\n",
    "    },\n",
    "    \"description\": {\n",
    "        \"short\": \"Experience the pinnacle of smartphone technology.\",\n",
    "        \"long\": \"The Samsung Galaxy S21 Ultra offers advanced features like a dynamic 6.8-inch AMOLED 2X display, professional-grade camera system with four lenses, and the powerful Exynos 2100 or Snapdragon 888 processor. With up to 16GB RAM and 512GB storage, it's the ultimate device for power users and mobile photographers. The Galaxy S21 Ultra also supports S-Pen input for the first time in the S series, bringing an even more versatile user experience.\"\n",
    "    }\n",
    "}\n",
    "\n",
    "prod_4 = {\n",
    "    \"product_id\": 4,\n",
    "    \"title\": \"Apple MacBook Pro 16\\\" (2022)\",\n",
    "    \"subtitle\": \"Power meets pro.\",\n",
    "    \"category\": {\n",
    "        \"level1\": \"Computers/Tablets & Networking\",\n",
    "        \"level2\": \"Laptops & Netbooks\",\n",
    "        \"level3\": \"Apple Laptops\"\n",
    "    },\n",
    "    \"price\": {\n",
    "        \"value\": 2399.99,\n",
    "        \"currency\": \"USD\"\n",
    "    },\n",
    "    \"condition\": \"New\",\n",
    "    \"seller\": {\n",
    "        \"username\": \"apple_official\",\n",
    "        \"feedback_score\": 99.7,\n",
    "        \"feedback_count\": 30000\n",
    "    },\n",
    "    \"shipping\": {\n",
    "        \"location\": \"United States\",\n",
    "        \"service\": \"Free Shipping\",\n",
    "        \"cost\": {\n",
    "            \"value\": 0,\n",
    "            \"currency\": \"USD\"\n",
    "        },\n",
    "        \"estimated_delivery\": \"3-7 business days\"\n",
    "    },\n",
    "    \"description\": {\n",
    "        \"short\": \"Redefine what you can do with a laptop.\",\n",
    "        \"long\": \"The Apple MacBook Pro 16\\\" (2022) is powered by the new M1 Pro or M1 Max chips, giving you extraordinary CPU, GPU, and machine learning performance. With an immersive 16-inch Liquid Retina XDR display, advanced thermal design, and up to 8TB of storage, it’s the most powerful MacBook Pro ever made. Whether you’re a creative professional or just want the best, the new MacBook Pro lets you push the limits of what is possible.\"\n",
    "    }\n",
    "}\n",
    "prod_5 = {\n",
    "    \"product_id\": 5,\n",
    "    \"title\": \"Apple iPhone 12 Pro\",\n",
    "    \"subtitle\": \"5G speed. A14 Bionic. Pro camera system.\",\n",
    "    \"category\": {\n",
    "        \"level1\": \"Cell Phones & Accessories\",\n",
    "        \"level2\": \"Cell Phones & Smartphones\",\n",
    "        \"level3\": \"Apple iPhone\"\n",
    "    },\n",
    "    \"price\": {\n",
    "        \"value\": 999.99,\n",
    "        \"currency\": \"USD\"\n",
    "    },\n",
    "    \"condition\": \"New\",\n",
    "    \"seller\": {\n",
    "        \"username\": \"apple_inc\",\n",
    "        \"feedback_score\": 99.8,\n",
    "        \"feedback_count\": 50000\n",
    "    },\n",
    "    \"shipping\": {\n",
    "        \"location\": \"United States\",\n",
    "        \"service\": \"Expedited Shipping\",\n",
    "        \"cost\": {\n",
    "            \"value\": 20,\n",
    "            \"currency\": \"USD\"\n",
    "        },\n",
    "        \"estimated_delivery\": \"1-3 business days\"\n",
    "    },\n",
    "    \"description\": {\n",
    "        \"short\": \"Meet the new generation of iPhone - iPhone 12 Pro.\",\n",
    "        \"long\": \"The Apple iPhone 12 Pro comes with a powerful A14 Bionic chip, a Pro camera system for unbelievable low-light photography, and a Ceramic Shield front cover, offering four times better drop performance. It features a 6.1-inch Super Retina XDR display, the largest ever on an iPhone, and has a surgical-grade stainless steel band. With 5G support, you can download and stream content at the highest quality. The Pro camera system takes low-light photography to the next level, with an even bigger jump on iPhone 12 Pro Max. And Ceramic Shield delivers four times better drop performance.\"\n",
    "    }\n",
    "}\n",
    "\n",
    "# defining users to be added to the users index\n",
    "user_1={\n",
    "  \"userId\": 1,\n",
    "  \"username\": \"applestore\",\n",
    "  \"accountType\": \"BUSINESS\",\n",
    "  \"registrationMarketplaceId\": \"EBAY_US\",\n",
    "  \"businessAccount\": {\n",
    "    \"name\": \"Apple Inc.\",\n",
    "    \"email\": \"contact@apple.com\",\n",
    "    \"doingBusinessAs\": \"Apple Store\",\n",
    "    \"primaryPhone\": {\n",
    "      \"countryCode\": \"US\",\n",
    "      \"number\": \"555-123-4567\",\n",
    "      \"phoneType\": \"MOBILE\"\n",
    "    }\n",
    "  },\n",
    "  \"address\": {\n",
    "    \"addressLine1\": \"1 Infinite Loop\",\n",
    "    \"city\": \"Cupertino\",\n",
    "    \"stateOrProvince\": \"CA\",\n",
    "    \"postalCode\": \"95014\",\n",
    "    \"country\": \"US\"\n",
    "  },\n",
    "  \"primaryContact\": {\n",
    "    \"firstName\": \"Tim\",\n",
    "    \"lastName\": \"Cook\"\n",
    "  },\n",
    "  \"feedback_score\": 100,\n",
    "  \"feedback_count\": 5000\n",
    "}\n",
    "\n",
    "user_2={\n",
    "    \"userId\": 2,\n",
    "    \"username\": \"bestbuy\",\n",
    "    \"accountType\": \"BUSINESS\",\n",
    "    \"registrationMarketplaceId\": \"AMAZON_US\",\n",
    "    \"businessAccount\": {\n",
    "        \"name\": \"Best Buy Inc.\",\n",
    "        \"email\": \"info@bestbuy.com\",\n",
    "        \"doingBusinessAs\": \"Best Buy\",\n",
    "        \"primaryPhone\": {\n",
    "            \"countryCode\": \"US\",\n",
    "            \"number\": \"702-382-9102\",\n",
    "            \"phoneType\": \"LANDLINE\"\n",
    "        }\n",
    "    },\n",
    "    \"address\": {\n",
    "        \"addressLine1\": \"7601 Penn Ave S\",\n",
    "        \"addressLine2\": \"\",\n",
    "        \"city\": \"Richfield\",\n",
    "        \"stateOrProvince\": \"MN\",\n",
    "        \"postalCode\": \"55423\",\n",
    "        \"country\": \"US\"\n",
    "    },\n",
    "    \"primaryContact\": {\n",
    "        \"firstName\": \"Pierre\",\n",
    "        \"lastName\": \"Omidyar\"\n",
    "    },\n",
    "    \"feedback_score\": 98.5,\n",
    "    \"feedback_count\": 10000\n",
    "}\n",
    "\n",
    "\n",
    "# Adding document to the products index\n",
    "res_1 = es.index(index='products', id=1, document=prod_1)\n",
    "res_2 = es.index(index='products', id=2, document=prod_2)\n",
    "res_3 = es.index(index='products', id=3, document=prod_3)\n",
    "res_4 = es.index(index='products', id=4, document=prod_4)\n",
    "res_5 = es.index(index='products', id=5, document=prod_5)\n",
    "\n",
    "# Adding document to the users index\n",
    "res_1 = es.index(index='users', id=1, document=user_1)\n",
    "res_2 = es.index(index='users', id=2, document=user_2)"
   ]
  },
  {
   "cell_type": "code",
   "execution_count": null,
   "id": "045dabc3",
   "metadata": {
    "ExecuteTime": {
     "end_time": "2023-05-16T16:17:09.099611972Z",
     "start_time": "2023-05-16T16:17:07.621940658Z"
    }
   },
   "outputs": [],
   "source": [
    "# searching for all added products\n",
    "search_results = es.search(index=\"products\", filter_path=['hits.hits._*'])\n",
    "\n",
    "# print search results\n",
    "for hit in search_results[\"hits\"][\"hits\"]:\n",
    "    print(hit[\"_source\"])\n",
    "    print(\"\\n\")\n",
    "    \n",
    "# searching for all added users\n",
    "search_results = es.search(index=\"users\", filter_path=['hits.hits._*'])\n",
    "\n",
    "# print search results\n",
    "for hit in search_results[\"hits\"][\"hits\"]:\n",
    "    print(hit[\"_source\"])\n",
    "    print(\"\\n\")"
   ]
  },
  {
   "cell_type": "markdown",
   "id": "be4dab6c",
   "metadata": {},
   "source": [
    "### Reterive a document"
   ]
  },
  {
   "cell_type": "code",
   "execution_count": null,
   "id": "e1b4d8e9",
   "metadata": {
    "ExecuteTime": {
     "end_time": "2023-05-16T15:36:17.935726198Z",
     "start_time": "2023-05-16T15:36:17.889567650Z"
    }
   },
   "outputs": [],
   "source": [
    "# let's get product 1 \n",
    "response = es.get(index=\"products\", id=1)\n",
    "print(response)"
   ]
  },
  {
   "cell_type": "markdown",
   "id": "f3ed3142",
   "metadata": {},
   "source": [
    "### Update a document"
   ]
  },
  {
   "cell_type": "code",
   "execution_count": null,
   "id": "13372498",
   "metadata": {
    "ExecuteTime": {
     "end_time": "2023-05-16T16:59:15.307362038Z",
     "start_time": "2023-05-16T16:59:15.264266671Z"
    }
   },
   "outputs": [],
   "source": [
    "# current product 1 price value is 999.99\n",
    "response = es.get(index=\"products\", id=1)\n",
    "print(\"current price is {}\".format(response[\"_source\"][\"price\"]))\n",
    "\n",
    "# updating product 1 price value to 800\n",
    "update_body = {\n",
    "        \"price\": {\n",
    "            \"value\": 800,\n",
    "            \"currency\": \"USD\"\n",
    "        }\n",
    "    }\n",
    "\n",
    "# update the document\n",
    "es.update(index=\"products\", id=1, doc=update_body)\n",
    "\n",
    "# Now we get product one again\n",
    "response = es.get(index=\"products\", id=1)\n",
    "print(\"updated price is {}\".format(response[\"_source\"][\"price\"]))"
   ]
  },
  {
   "cell_type": "markdown",
   "id": "2ea78b22",
   "metadata": {},
   "source": [
    "### Delete a document"
   ]
  },
  {
   "cell_type": "code",
   "execution_count": null,
   "id": "8837324d",
   "metadata": {
    "ExecuteTime": {
     "end_time": "2023-05-16T15:36:43.735647251Z",
     "start_time": "2023-05-16T15:36:43.712809830Z"
    }
   },
   "outputs": [],
   "source": [
    "### let's delete user 1\n",
    "response = es.delete(index=\"users\", id=1)"
   ]
  },
  {
   "cell_type": "code",
   "execution_count": null,
   "id": "a69b3f57",
   "metadata": {
    "ExecuteTime": {
     "end_time": "2023-05-16T15:36:45.959044860Z",
     "start_time": "2023-05-16T15:36:45.916196020Z"
    }
   },
   "outputs": [],
   "source": [
    "# searching for all added users\n",
    "search_results = es.search(index=\"users\", filter_path=['hits.hits._*'])\n",
    "\n",
    "# print search results\n",
    "for hit in search_results[\"hits\"][\"hits\"]:\n",
    "    print(hit[\"_source\"])\n",
    "    print(\"\\n\")"
   ]
  },
  {
   "cell_type": "markdown",
   "id": "2bf070a4",
   "metadata": {},
   "source": [
    "## Searching Data\n",
    "The goal is to use the search() function of the API to perform basic search. The search() function takes in a dictionary of search parameters and returns a dictionary of search results.\n"
   ]
  },
  {
   "cell_type": "markdown",
   "id": "6961d3e8",
   "metadata": {},
   "source": [
    "### Match Query\n",
    "This query is used to match a text, a sentence or a set of words to be matched in the provided field of documents in the index. For instance, if you want to search for \"Apple\" in the \"title\" field:"
   ]
  },
  {
   "cell_type": "code",
   "execution_count": null,
   "id": "c39f4605",
   "metadata": {
    "ExecuteTime": {
     "end_time": "2023-05-16T16:52:29.329143109Z",
     "start_time": "2023-05-16T16:52:29.271317398Z"
    },
    "collapsed": false,
    "jupyter": {
     "outputs_hidden": false
    }
   },
   "outputs": [],
   "source": [
    "response = es.search(\n",
    "    index='products',\n",
    "    query={\n",
    "        \"match\": {\n",
    "                \"title\": \"Apple\"\n",
    "        }\n",
    "    }\n",
    ")\n",
    "\n",
    "for hit in response[\"hits\"][\"hits\"]:\n",
    "    print(hit[\"_source\"])\n",
    "    print(\"\\n\")"
   ]
  },
  {
   "cell_type": "markdown",
   "id": "fc3623e8",
   "metadata": {},
   "source": [
    "### Match Phrase Query\n",
    "This query is used when you need to find documents containing exact phrases. For instance, to find documents where the title field contains the exact phrase \"Apple iPhone 12 Pro\":"
   ]
  },
  {
   "cell_type": "code",
   "execution_count": null,
   "id": "87f245fa",
   "metadata": {
    "ExecuteTime": {
     "end_time": "2023-05-16T16:52:09.677218923Z",
     "start_time": "2023-05-16T16:52:09.670969165Z"
    },
    "collapsed": false,
    "jupyter": {
     "outputs_hidden": false
    }
   },
   "outputs": [],
   "source": [
    "response = es.search(\n",
    "    index='products',\n",
    "    query={\n",
    "        \"match_phrase\": {\n",
    "            \"title\": \"Apple iPhone 12 Pro\"\n",
    "        }\n",
    "    }\n",
    ")\n",
    "\n",
    "for hit in response[\"hits\"][\"hits\"]:\n",
    "    print(hit[\"_source\"])\n",
    "    print(\"\\n\")"
   ]
  },
  {
   "cell_type": "markdown",
   "id": "6d5db1ad",
   "metadata": {},
   "source": [
    "### Range Query\n",
    "This query is used to find documents where a field's value is between certain ranges. For example, finding products with a price value between 500 and 1000 USD:"
   ]
  },
  {
   "cell_type": "code",
   "execution_count": null,
   "id": "ca898640",
   "metadata": {
    "ExecuteTime": {
     "end_time": "2023-05-16T16:58:24.260677829Z",
     "start_time": "2023-05-16T16:58:24.244977514Z"
    },
    "collapsed": false,
    "jupyter": {
     "outputs_hidden": false
    }
   },
   "outputs": [],
   "source": [
    "response = es.search(\n",
    "    index='products',\n",
    "    query={\n",
    "        \"range\": {\n",
    "            \"price.value\": {\n",
    "                \"gte\": 500,\n",
    "                \"lte\": 1000\n",
    "            }\n",
    "        }\n",
    "    }\n",
    ")\n",
    "\n",
    "for hit in response[\"hits\"][\"hits\"]:\n",
    "    print(hit[\"_source\"])\n",
    "    print(\"\\n\")"
   ]
  },
  {
   "cell_type": "markdown",
   "id": "4aefa094",
   "metadata": {},
   "source": [
    "### Boolean Query\n",
    "This query is used when you want to combine multiple queries in a logical manner. For example, to find products that have \"Apple\" in their title and a price value less than 1000 USD:"
   ]
  },
  {
   "cell_type": "code",
   "execution_count": null,
   "id": "dbe83373",
   "metadata": {
    "ExecuteTime": {
     "end_time": "2023-05-16T16:59:37.003328812Z",
     "start_time": "2023-05-16T16:59:36.995568637Z"
    },
    "collapsed": false,
    "jupyter": {
     "outputs_hidden": false
    }
   },
   "outputs": [],
   "source": [
    "response = es.search(\n",
    "    index='products',\n",
    "    query={\n",
    "        \"bool\": {\n",
    "            \"must\": [\n",
    "                {\"match\": {\"title\": \"Apple\"}},\n",
    "                {\"range\": {\"price.value\": {\"lt\": 900}}}\n",
    "            ]\n",
    "        }\n",
    "    }\n",
    ")\n",
    "\n",
    "for hit in response[\"hits\"][\"hits\"]:\n",
    "    print(hit[\"_source\"])\n",
    "    print(\"\\n\")"
   ]
  },
  {
   "cell_type": "markdown",
   "id": "4f31a30e",
   "metadata": {},
   "source": [
    "We can see that the only iPhone showing up is the one priced at 800 USD."
   ]
  },
  {
   "cell_type": "markdown",
   "id": "45dfd4de",
   "metadata": {},
   "source": [
    "### Full-Text Search:\n",
    "This query is used when you want to search for a specific term in all the text fields:"
   ]
  },
  {
   "cell_type": "code",
   "execution_count": null,
   "id": "e51590c5",
   "metadata": {
    "ExecuteTime": {
     "end_time": "2023-05-16T17:05:04.315594362Z",
     "start_time": "2023-05-16T17:05:04.300322560Z"
    },
    "collapsed": false,
    "jupyter": {
     "outputs_hidden": false
    }
   },
   "outputs": [],
   "source": [
    "response = es.search(\n",
    "    index='products',\n",
    "    query={\n",
    "        \"multi_match\": {\n",
    "            \"query\": \"Apple\",\n",
    "            \"fields\": [\"title\", \"description.short\", \"description.long\"]\n",
    "        }\n",
    "    }\n",
    ")\n",
    "\n",
    "for hit in response[\"hits\"][\"hits\"]:\n",
    "    print(hit[\"_source\"])\n",
    "    print(\"\\n\")"
   ]
  },
  {
   "cell_type": "markdown",
   "id": "f81d887c",
   "metadata": {},
   "source": [
    "### Fuzzy Search\n",
    "This query is used when you want to search for similar words. \n",
    "Fuzzy search is a technique used to find similar words or terms when the exact spelling is uncertain. For example, if you want to search for \"Apple\" but a typo is made, the node will still find the actual index."
   ]
  },
  {
   "cell_type": "code",
   "execution_count": null,
   "id": "9da61678",
   "metadata": {
    "ExecuteTime": {
     "end_time": "2023-05-16T17:06:21.969742202Z",
     "start_time": "2023-05-16T17:06:21.955172364Z"
    },
    "collapsed": false,
    "jupyter": {
     "outputs_hidden": false
    }
   },
   "outputs": [],
   "source": [
    "# Fuzzy Query\n",
    "response = es.search(\n",
    "    index='products',\n",
    "    query={\n",
    "        \"fuzzy\": {\n",
    "            \"title\": {\n",
    "                \"value\": \"Apole\",\n",
    "                \"fuzziness\": 2\n",
    "            }\n",
    "        }\n",
    "    }\n",
    ")\n",
    "\n",
    "for hit in response[\"hits\"][\"hits\"]:\n",
    "    print(hit[\"_source\"])\n",
    "    print(\"\\n\")"
   ]
  },
  {
   "cell_type": "markdown",
   "id": "d3c77152",
   "metadata": {},
   "source": [
    "We can see that even if 'Apple' was misspelled, the fuzzy search was able to find it. The fuzziness parameter is used to specify the maximum number of characters that can differ between the search term and the matching terms.\n",
    "It has to be chosen carefully because a high value can lead to a lot of irrelevant results and long search times."
   ]
  },
  {
   "cell_type": "markdown",
   "id": "37d18d83",
   "metadata": {},
   "source": [
    "## Going Further\n",
    "Throughout this tutorial, we covered essential aspects of Elasticsearch, including index creation, CRUD operations, and some search capabilities. However, it's important to note that what we've explored so far represents only a glimpse of Elasticsearch's capabilities. There is much more to discover and explore.\n",
    "\n",
    "The features we discussed are just a starting point, and Elasticsearch offers a vast array of advanced functionalities and tools. By delving deeper into Elasticsearch, you can unlock its full potential and leverage its advanced search capabilities, scalability, performance optimization techniques, and powerful analytics capabilities.\n",
    "\n",
    "While this tutorial provides a solid foundation and practical insights into Elasticsearch, we highly recommend continuing your learning journey. There are numerous resources available.\n",
    "\n",
    "Here are some recommended sources to dive deeper into Elasticsearch:\n",
    "- Official Elasticsearch Documentation: The official documentation provides comprehensive information on Elasticsearch's features, concepts, APIs, and usage. It covers various topics, from basic setup to advanced search techniques and cluster management. You can find it at https://www.elastic.co/guide/index.html.\n",
    "- For a quick and accessible tutorial, we recommend checking out the Elasticsearch tutorial available at [Tutorialspoint](https://www.tutorialspoint.com/elasticsearch/index.htm). This tutorial provides a user-friendly approach to learning Elasticsearch, offering step-by-step explanations and examples.\n",
    "- We highly recommend following the tutorial series created by LisaHJung, a Senior Developer Advocate at Elastic, which is available at https://github.com/LisaHJung/Beginners-Crash-Course-to-Elastic-Stack-Series-Table-of-Contents. This comprehensive tutorial is an excellent learning resource, especially for beginners who want to explore the Elastic Stack and fully grasp the capabilities of Elasticsearch."
   ]
  },
  {
   "cell_type": "markdown",
   "id": "c82b9a47-c107-439c-a961-4e264afd5cc9",
   "metadata": {},
   "source": [
    "## Resources\n",
    "[elastic.co](https://www.elastic.co/)\n",
    "\n",
    "[Elastic Stack (ELK Stack)](https://www.techtarget.com/searchitoperations/definition/Elastic-Stack)\n",
    "\n",
    "[deviantony/docker-elk GitHub Repository](https://github.com/deviantony/docker-elk)\n",
    "\n",
    "[Run Elastic stack (ELK) on Docker Containers with Docker Compose](https://computingforgeeks.com/run-elastic-stack-elk-on-docker/)\n",
    "\n",
    "[Elasticsearch API Documentation](https://elasticsearch-py.readthedocs.io/en/7.x/api.html#elasticsearch)"
   ]
  }
 ],
 "metadata": {
  "kernelspec": {
   "display_name": "Python 3 (ipykernel)",
   "language": "python",
   "name": "python3"
  },
  "language_info": {
   "codemirror_mode": {
    "name": "ipython",
    "version": 3
   },
   "file_extension": ".py",
   "mimetype": "text/x-python",
   "name": "python",
   "nbconvert_exporter": "python",
   "pygments_lexer": "ipython3",
   "version": "3.10.11"
  }
 },
 "nbformat": 4,
 "nbformat_minor": 5
}
